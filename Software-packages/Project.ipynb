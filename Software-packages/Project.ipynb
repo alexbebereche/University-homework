{
 "cells": [
  {
   "cell_type": "markdown",
   "metadata": {},
   "source": [
    "We want to create a list with out products"
   ]
  },
  {
   "cell_type": "code",
   "execution_count": 2,
   "metadata": {},
   "outputs": [
    {
     "name": "stdout",
     "output_type": "stream",
     "text": [
      "['Nike hoodie', 'Vans shoes', 'Adidas hoodie', 'Nike Tshirt', 'HP laptop', 'Kingston SSD', 'Gaming computer', 'Vans Thsirt', 'Vans Backpack']\n"
     ]
    }
   ],
   "source": [
    "# using lists and dictionaries, including their specific methods;\n",
    "list_products = [] # empty list\n",
    "\n",
    "list_products.append(\"Nike hoodie\") # add items to the list\n",
    "list_products.append(\"Vans shoes\")\n",
    "list_products.append(\"Adidas hoodie\")\n",
    "list_products.append(\"Nike Tshirt\")\n",
    "list_products.append(\"HP laptop\")\n",
    "list_products.append(\"Kingston SSD\")\n",
    "list_products.append(\"Gaming computer\")\n",
    "list_products.append(\"Vans Thsirt\")\n",
    "list_products.append(\"Vans Backpack\")\n",
    "\n",
    "print(list_products) # print list"
   ]
  },
  {
   "cell_type": "markdown",
   "metadata": {},
   "source": [
    "Want to see what hoodies are available in our list of products.\n",
    "For that, we create a function that receive a list as a parameter, and we check if each item (in lowercase) contains the word \"hoodie\". If it does, we print it.\n",
    "In the end, we call the function with the product list as a parameter."
   ]
  },
  {
   "cell_type": "code",
   "execution_count": 4,
   "metadata": {},
   "outputs": [
    {
     "name": "stdout",
     "output_type": "stream",
     "text": [
      "Nike hoodie\n",
      "Adidas hoodie\n"
     ]
    }
   ],
   "source": [
    "def list_hoodies(list): # function\n",
    "    for product in list: # repetitive structure\n",
    "        if \"hoodie\" in product.lower(): # conditional structure\n",
    "            print(product)\n",
    "            \n",
    "list_hoodies(list_products)"
   ]
  },
  {
   "cell_type": "markdown",
   "metadata": {},
   "source": [
    "In order to avoid duplicates, work with the products in a set"
   ]
  },
  {
   "cell_type": "code",
   "execution_count": 34,
   "metadata": {},
   "outputs": [
    {
     "name": "stdout",
     "output_type": "stream",
     "text": [
      "<class 'set'>\n",
      "{'Nike Tshirt', 'Vans shoes', 'Vans Thsirt', 'Kingston SSD', 'HP laptop', 'Adidas hoodie', 'Gaming computer', 'Vans Backpack', 'Nike hoodie'}\n",
      "Length before:  9\n",
      "Length after:  9\n",
      "Length after adding a different product:  10\n",
      "{'Nike Tshirt', 'Vans shoes', 'Vans Thsirt', 'Kingston SSD', 'HP laptop', 'Nike hoodie limited edition', 'Adidas hoodie', 'Gaming computer', 'Vans Backpack', 'Nike hoodie'}\n",
      "9\n"
     ]
    }
   ],
   "source": [
    "products_set = set(list_products) # create a set from the list we already had\n",
    "print(type(products_set)) # check its type, to prove it's a set\n",
    "print(products_set)\n",
    "\n",
    "print(\"Length before: \", end = \" \") \n",
    "# we use end = \" \" in order to change the separator from \"\\n\", as we want to print the next value on the same line\n",
    "print(len(products_set))\n",
    "\n",
    "products_set.add(\"Nike hoodie\") # add product to the set\n",
    "\n",
    "print(\"Length after: \", end = \" \")\n",
    "print(len(products_set)) # length did not change, as we already have the item in the set\n",
    "\n",
    "# new product, that is not in the set\n",
    "products_set.add(\"Nike hoodie limited edition\") # add a new item to the set\n",
    "\n",
    "print(\"Length after adding a different product: \", end = \" \")\n",
    "print(len(products_set))\n",
    "print(products_set)\n",
    "\n",
    "# remove from set\n",
    "products_set.remove('HP laptop') # remove item from set\n",
    "print(len(products_set))"
   ]
  },
  {
   "cell_type": "markdown",
   "metadata": {},
   "source": [
    "Redecided, we want duplicate products...change to a tuple"
   ]
  },
  {
   "cell_type": "code",
   "execution_count": 35,
   "metadata": {},
   "outputs": [
    {
     "name": "stdout",
     "output_type": "stream",
     "text": [
      "<class 'tuple'>\n",
      "before:\n",
      "('Nike hoodie', 'Vans shoes', 'Adidas hoodie', 'Nike Tshirt', 'HP laptop', 'Kingston SSD', 'Gaming computer', 'Vans Thsirt', 'Vans Backpack')\n",
      "after:\n",
      "('Nike hoodie', 'Vans shoes', 'Adidas hoodie', 'Nike Tshirt', 'HP laptop', 'Kingston SSD', 'Gaming computer', 'Vans Thsirt', 'Vans Backpack', 'Nike hoodie')\n",
      "<class 'tuple'>\n"
     ]
    }
   ],
   "source": [
    "products_tuple = tuple(list_products)\n",
    "print(type(products_tuple))\n",
    "\n",
    "print(\"before:\")\n",
    "print(products_tuple)\n",
    "\n",
    "# as tuples are immutable, we have to create a new one\n",
    "products_tuple = products_tuple + (\"Nike hoodie\",) # need to declare it with a comma after,\n",
    "# otherwise it would not be recognised as a tuple\n",
    "\n",
    "print(\"after:\")\n",
    "print(products_tuple)\n",
    "print(type(products_tuple))\n",
    "\n"
   ]
  },
  {
   "cell_type": "markdown",
   "metadata": {},
   "source": [
    "Create a dict with some public company info"
   ]
  },
  {
   "cell_type": "code",
   "execution_count": null,
   "metadata": {},
   "outputs": [],
   "source": [
    "company_info = {\"name\" : \"Ecom SRL\", \"address\" : \"Calea Dorobantilor nr. 163\", \"owner\" : \"Alex Bebereche\", \"no_products\" : 154}\n",
    "print(company_info)"
   ]
  },
  {
   "cell_type": "markdown",
   "metadata": {},
   "source": [
    "Get the address of the company"
   ]
  },
  {
   "cell_type": "code",
   "execution_count": 25,
   "metadata": {},
   "outputs": [
    {
     "name": "stdout",
     "output_type": "stream",
     "text": [
      "Calea Dorobantilor nr. 163\n"
     ]
    }
   ],
   "source": [
    "print(company_info.get(\"address\"))"
   ]
  },
  {
   "cell_type": "markdown",
   "metadata": {},
   "source": [
    "Company moved to another address, need to update it"
   ]
  },
  {
   "cell_type": "code",
   "execution_count": 28,
   "metadata": {},
   "outputs": [
    {
     "name": "stdout",
     "output_type": "stream",
     "text": [
      "Calea Dorobantilor nr. 15-17\n"
     ]
    }
   ],
   "source": [
    "new_address = {\"address\" : \"Calea Dorobantilor nr. 15-17\"}\n",
    "company_info.update(new_address)\n",
    "\n",
    "print(company_info.get(\"address\"))"
   ]
  },
  {
   "cell_type": "code",
   "execution_count": 29,
   "metadata": {},
   "outputs": [
    {
     "name": "stdout",
     "output_type": "stream",
     "text": [
      "   ID                 NAME  PRICE  QUANTITY CATEGORY  COLOR  WEIGHT_IN_KG\n",
      "0   1         Vans T-shirt     30       200  Clothes  Black           0.2\n",
      "1   2               Hoodie     80       150  Clothes  White           0.4\n",
      "2   3      Laptop HP i6006   2000        30       IT  Black           2.1\n",
      "3   4        SSD Kingstone    231        10       IT   Grey           0.3\n",
      "4   5  Logitech Mouse G502    150       114       IT  Black           0.3\n",
      "5   6        Football ball    100        15    Sport  White           0.4\n"
     ]
    }
   ],
   "source": [
    "import pandas as pd\n",
    "df = pd.read_csv('products.csv')\n",
    "\n",
    "print(df)"
   ]
  },
  {
   "cell_type": "markdown",
   "metadata": {},
   "source": [
    "Display he name, price and quantity for the first 5 products"
   ]
  },
  {
   "cell_type": "code",
   "execution_count": 32,
   "metadata": {
    "scrolled": true
   },
   "outputs": [
    {
     "name": "stdout",
     "output_type": "stream",
     "text": [
      "                  NAME  PRICE  QUANTITY\n",
      "0         Vans T-shirt     30       200\n",
      "1               Hoodie     80       150\n",
      "2      Laptop HP i6006   2000        30\n",
      "3        SSD Kingstone    231        10\n",
      "4  Logitech Mouse G502    150       114\n"
     ]
    }
   ],
   "source": [
    "import pandas as pd\n",
    "df = pd.read_csv('products.csv')\n",
    "\n",
    "print(df.loc[:4, 'NAME':'QUANTITY'])  # :, for all columns"
   ]
  },
  {
   "cell_type": "markdown",
   "metadata": {},
   "source": [
    "Print the names of the product with QUANTITY <= 20, as they need to be restocked"
   ]
  },
  {
   "cell_type": "code",
   "execution_count": 2,
   "metadata": {},
   "outputs": [
    {
     "name": "stdout",
     "output_type": "stream",
     "text": [
      "            NAME\n",
      "3  SSD Kingstone\n",
      "5  Football ball\n"
     ]
    }
   ],
   "source": [
    "print(df.loc[(df[\"QUANTITY\"] <= 20), ['NAME']])"
   ]
  },
  {
   "cell_type": "markdown",
   "metadata": {},
   "source": [
    "Restock those products to have a stock of 30."
   ]
  },
  {
   "cell_type": "code",
   "execution_count": 33,
   "metadata": {},
   "outputs": [
    {
     "name": "stdout",
     "output_type": "stream",
     "text": [
      "before:----\n",
      "   ID                 NAME  PRICE  QUANTITY CATEGORY  COLOR  WEIGHT_IN_KG\n",
      "0   1         Vans T-shirt     30       200  Clothes  Black           0.2\n",
      "1   2               Hoodie     80       150  Clothes  White           0.4\n",
      "2   3      Laptop HP i6006   2000        30       IT  Black           2.1\n",
      "3   4        SSD Kingstone    231        10       IT   Grey           0.3\n",
      "4   5  Logitech Mouse G502    150       114       IT  Black           0.3\n",
      "5   6        Football ball    100        15    Sport  White           0.4\n",
      "after:----\n",
      "   ID                 NAME  PRICE  QUANTITY CATEGORY  COLOR  WEIGHT_IN_KG\n",
      "0   1         Vans T-shirt     30       200  Clothes  Black           0.2\n",
      "1   2               Hoodie     80       150  Clothes  White           0.4\n",
      "2   3      Laptop HP i6006   2000        30       IT  Black           2.1\n",
      "3   4        SSD Kingstone    231        30       IT   Grey           0.3\n",
      "4   5  Logitech Mouse G502    150       114       IT  Black           0.3\n",
      "5   6        Football ball    100        30    Sport  White           0.4\n"
     ]
    }
   ],
   "source": [
    "#initial situation\n",
    "import pandas as pd\n",
    "df = pd.read_csv('products.csv')\n",
    "\n",
    "print(\"before:----\")\n",
    "print(df)\n",
    "\n",
    "print(\"after:----\")\n",
    "df.loc[(df['QUANTITY'] <= 20), 'QUANTITY'] = 30\n",
    "\n",
    "print(df)"
   ]
  },
  {
   "cell_type": "markdown",
   "metadata": {},
   "source": [
    "Some products do not have a color specified - 'not available' will replace the missing value\n",
    "The shop starts selling courses for a local gym, which does not have a WEIGHT_IN_KG; all the missing values will be replaced with 0 regarding this column"
   ]
  },
  {
   "cell_type": "code",
   "execution_count": 23,
   "metadata": {},
   "outputs": [
    {
     "name": "stdout",
     "output_type": "stream",
     "text": [
      "0            Black\n",
      "1            White\n",
      "2            Black\n",
      "3             Grey\n",
      "4            Black\n",
      "5            White\n",
      "6    not available\n",
      "Name: COLOR, dtype: object\n",
      "   ID                 NAME  PRICE  QUANTITY CATEGORY          COLOR  \\\n",
      "0   1         Vans T-shirt     30       200  Clothes          Black   \n",
      "1   2               Hoodie     80       150  Clothes          White   \n",
      "2   3      Laptop HP i6006   2000        30       IT          Black   \n",
      "3   4        SSD Kingstone    231        10       IT           Grey   \n",
      "4   5  Logitech Mouse G502    150       114       IT          Black   \n",
      "5   6        Football ball    100        15    Sport          White   \n",
      "6   7       Fitness Course    150       100    Sport  not available   \n",
      "\n",
      "   WEIGHT_IN_KG  \n",
      "0           0.2  \n",
      "1           0.4  \n",
      "2           2.1  \n",
      "3           0.3  \n",
      "4           0.3  \n",
      "5           0.4  \n",
      "6           NaN  \n",
      "0    0.2\n",
      "1    0.4\n",
      "2    2.1\n",
      "3    0.3\n",
      "4    0.3\n",
      "5    0.4\n",
      "6    0.0\n",
      "Name: WEIGHT_IN_KG, dtype: float64\n",
      "   ID                 NAME  PRICE  QUANTITY CATEGORY          COLOR  \\\n",
      "0   1         Vans T-shirt     30       200  Clothes          Black   \n",
      "1   2               Hoodie     80       150  Clothes          White   \n",
      "2   3      Laptop HP i6006   2000        30       IT          Black   \n",
      "3   4        SSD Kingstone    231        10       IT           Grey   \n",
      "4   5  Logitech Mouse G502    150       114       IT          Black   \n",
      "5   6        Football ball    100        15    Sport          White   \n",
      "6   7       Fitness Course    150       100    Sport  not available   \n",
      "\n",
      "   WEIGHT_IN_KG  \n",
      "0           0.2  \n",
      "1           0.4  \n",
      "2           2.1  \n",
      "3           0.3  \n",
      "4           0.3  \n",
      "5           0.4  \n",
      "6           0.0  \n"
     ]
    }
   ],
   "source": [
    "import pandas as pd\n",
    "df = pd.read_csv('products_na.csv')\n",
    "\n",
    "df['COLOR'] = df['COLOR'].fillna('not available')\n",
    "print(df.COLOR)\n",
    "print(df)\n",
    "\n",
    "df['WEIGHT_IN_KG'] = df['WEIGHT_IN_KG'].fillna(0)\n",
    "print(df.WEIGHT_IN_KG)"
   ]
  },
  {
   "cell_type": "markdown",
   "metadata": {},
   "source": [
    "As there was a recent attack targeting to drop the reviews of the products, they will be temporarily disabled."
   ]
  },
  {
   "cell_type": "code",
   "execution_count": 25,
   "metadata": {},
   "outputs": [
    {
     "name": "stdout",
     "output_type": "stream",
     "text": [
      "   ID                 NAME  PRICE  QUANTITY CATEGORY  COLOR  WEIGHT_IN_KG  \\\n",
      "0   1         Vans T-shirt     30       200  Clothes  Black           0.2   \n",
      "1   2               Hoodie     80       150  Clothes  White           0.4   \n",
      "2   3      Laptop HP i6006   2000        30       IT  Black           2.1   \n",
      "3   4        SSD Kingstone    231        10       IT   Grey           0.3   \n",
      "4   5  Logitech Mouse G502    150       114       IT  Black           0.3   \n",
      "5   6        Football ball    100        15    Sport  White           0.4   \n",
      "\n",
      "   REVIEW  \n",
      "0       5  \n",
      "1       4  \n",
      "2       1  \n",
      "3       1  \n",
      "4       1  \n",
      "5       1  \n",
      "   ID                 NAME  PRICE  QUANTITY CATEGORY  COLOR  WEIGHT_IN_KG\n",
      "0   1         Vans T-shirt     30       200  Clothes  Black           0.2\n",
      "1   2               Hoodie     80       150  Clothes  White           0.4\n",
      "2   3      Laptop HP i6006   2000        30       IT  Black           2.1\n",
      "3   4        SSD Kingstone    231        10       IT   Grey           0.3\n",
      "4   5  Logitech Mouse G502    150       114       IT  Black           0.3\n",
      "5   6        Football ball    100        15    Sport  White           0.4\n"
     ]
    }
   ],
   "source": [
    "import pandas as pd\n",
    "df = pd.read_csv('products_review.csv')\n",
    "\n",
    "#before\n",
    "print(df)\n",
    "\n",
    "#after\n",
    "df = df.drop(columns=\"REVIEW\")  \n",
    "print(df)"
   ]
  },
  {
   "cell_type": "markdown",
   "metadata": {},
   "source": [
    "We need to delete the products from rows 0 and 3"
   ]
  },
  {
   "cell_type": "code",
   "execution_count": 29,
   "metadata": {},
   "outputs": [
    {
     "name": "stdout",
     "output_type": "stream",
     "text": [
      "   ID                 NAME  PRICE  QUANTITY CATEGORY  COLOR  WEIGHT_IN_KG\n",
      "1   2               Hoodie     80       150  Clothes  White           0.4\n",
      "2   3      Laptop HP i6006   2000        30       IT  Black           2.1\n",
      "4   5  Logitech Mouse G502    150       114       IT  Black           0.3\n",
      "5   6        Football ball    100        15    Sport  White           0.4\n"
     ]
    }
   ],
   "source": [
    "import pandas as pd\n",
    "df = pd.read_csv('products.csv')\n",
    "\n",
    "df = df.drop([0, 3], axis=0)\n",
    "print(df.head(4)) #first 4 elements"
   ]
  },
  {
   "cell_type": "code",
   "execution_count": null,
   "metadata": {},
   "outputs": [],
   "source": [
    "We want to see all the different categories of products we have in our shop, in order to later analyze if we need to add more."
   ]
  },
  {
   "cell_type": "code",
   "execution_count": 34,
   "metadata": {},
   "outputs": [
    {
     "name": "stdout",
     "output_type": "stream",
     "text": [
      "dict_keys(['Clothes', 'IT', 'Sport'])\n"
     ]
    }
   ],
   "source": [
    "import pandas as pd\n",
    "df = pd.read_csv('products.csv')\n",
    "\n",
    "print(df.groupby(['CATEGORY']).groups.keys())"
   ]
  },
  {
   "cell_type": "code",
   "execution_count": null,
   "metadata": {},
   "outputs": [],
   "source": [
    "We want to check the total price for each category"
   ]
  },
  {
   "cell_type": "code",
   "execution_count": 37,
   "metadata": {},
   "outputs": [
    {
     "name": "stdout",
     "output_type": "stream",
     "text": [
      "CATEGORY\n",
      "Clothes     110\n",
      "IT         2381\n",
      "Sport       100\n",
      "Name: PRICE, dtype: int64\n"
     ]
    }
   ],
   "source": [
    "import pandas as pd\n",
    "df = pd.read_csv('products.csv')\n",
    "\n",
    "print(df.groupby('CATEGORY')['PRICE'].sum())"
   ]
  },
  {
   "cell_type": "markdown",
   "metadata": {},
   "source": [
    "Show a pie chart with total of weight(in kg) for each category, as we need to reorganize the deposit."
   ]
  },
  {
   "cell_type": "code",
   "execution_count": 45,
   "metadata": {},
   "outputs": [
    {
     "data": {
      "text/plain": [
       "<matplotlib.axes._subplots.AxesSubplot at 0xcb4b1f0>"
      ]
     },
     "execution_count": 45,
     "metadata": {},
     "output_type": "execute_result"
    },
    {
     "data": {
      "image/png": "[encoded data removed]",
      "text/plain": [
       "<Figure size 432x288 with 1 Axes>"
      ]
     },
     "metadata": {},
     "output_type": "display_data"
    }
   ],
   "source": [
    "import pandas as pd\n",
    "import matplotlib.pyplot as plt\n",
    "import pandas as pd\n",
    "\n",
    "df = pd.read_csv('products.csv')\n",
    "\n",
    "plot_data = df\n",
    "plot_data = plot_data.groupby('CATEGORY')['WEIGHT_IN_KG'].sum()\n",
    "plot_data.sort_values().plot(kind='pie', autopct='%.2f%%')  #also dipsplay the percentage of each piece of pie"
   ]
  },
  {
   "cell_type": "markdown",
   "metadata": {},
   "source": [
    "The boss wants to have multiple charts available to analyze, so he also asks for a pie chart"
   ]
  },
  {
   "cell_type": "code",
   "execution_count": 44,
   "metadata": {},
   "outputs": [
    {
     "data": {
      "text/plain": [
       "<matplotlib.axes._subplots.AxesSubplot at 0xcb02b90>"
      ]
     },
     "execution_count": 44,
     "metadata": {},
     "output_type": "execute_result"
    },
    {
     "data": {
      "image/png": "[encoded data removed]",
      "text/plain": [
       "<Figure size 432x288 with 1 Axes>"
      ]
     },
     "metadata": {
      "needs_background": "light"
     },
     "output_type": "display_data"
    }
   ],
   "source": [
    "import pandas as pd\n",
    "import matplotlib.pyplot as plt\n",
    "import pandas as pd\n",
    "\n",
    "df = pd.read_csv('products.csv')\n",
    "\n",
    "plot_data = df\n",
    "plot_data = plot_data.groupby('CATEGORY')['WEIGHT_IN_KG'].sum()\n",
    "plot_data.sort_values().plot(kind='bar')"
   ]
  }
 ],
 "metadata": {
  "kernelspec": {
   "display_name": "Python 3 (ipykernel)",
   "language": "python",
   "name": "python3"
  },
  "language_info": {
   "codemirror_mode": {
    "name": "ipython",
    "version": 3
   },
   "file_extension": ".py",
   "mimetype": "text/x-python",
   "name": "python",
   "nbconvert_exporter": "python",
   "pygments_lexer": "ipython3",
   "version": "3.9.2"
  }
 },
 "nbformat": 4,
 "nbformat_minor": 4
}
